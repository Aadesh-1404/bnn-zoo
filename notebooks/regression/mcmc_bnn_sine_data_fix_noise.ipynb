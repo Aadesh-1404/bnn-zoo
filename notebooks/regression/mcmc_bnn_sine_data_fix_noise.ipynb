{
 "cells": [
  {
   "cell_type": "code",
   "execution_count": 1,
   "id": "538a0730",
   "metadata": {},
   "outputs": [],
   "source": [
    "import os\n",
    "os.chdir('../../') #if we are in notebooks folder"
   ]
  },
  {
   "cell_type": "code",
   "execution_count": 17,
   "id": "5c9fd1b3",
   "metadata": {},
   "outputs": [],
   "source": [
    "import flax\n",
    "from flax import linen as nn\n",
    "from flax.core import unfreeze\n",
    "\n",
    "import jax\n",
    "from flax.core.frozen_dict import freeze, unfreeze\n",
    "import jax.numpy as jnp\n",
    "import optax\n",
    "\n",
    "import matplotlib.pyplot as plt\n",
    "import seaborn as sns\n",
    "\n",
    "from datasets import sin_data\n",
    "from utilities import plot\n",
    "\n",
    "import tensorflow_probability.substrates.jax as tfp\n",
    "tfd = tfp.distributions\n",
    "import blackjax"
   ]
  },
  {
   "cell_type": "code",
   "execution_count": 7,
   "id": "938d6aa7",
   "metadata": {},
   "outputs": [],
   "source": [
    "class MLP(nn.Module):\n",
    "    features : list\n",
    "        \n",
    "    @nn.compact\n",
    "    def __call__(self, X):\n",
    "        for i, feature in enumerate(self.features):\n",
    "            X = nn.Dense(feature, kernel_init=jax.nn.initializers.glorot_normal(), name=f\"Dense_{i}\")(X)\n",
    "            X = nn.relu(X)            \n",
    "        X = nn.Dense(1, name=f\"Dense_{i+1}\")(X)\n",
    "        return X.flatten()\n",
    "\n",
    "    def loss_fn(self, params, X, y):\n",
    "        y_hat = self.apply(params, X)\n",
    "        @jax.jit\n",
    "        def binary_cross_entropy(params,y_hat, y):\n",
    "            bce = y * jnp.log(y_hat) + (1 - y) * jnp.log(1 - y_hat)\n",
    "            return jnp.mean(-bce)\n",
    "        return jnp.mean(jax.vmap(binary_cross_entropy, in_axes=(None, 0, 0))(params,y_hat, y))"
   ]
  },
  {
   "cell_type": "markdown",
   "id": "c6458cfe",
   "metadata": {},
   "source": [
    "## Load Dataset"
   ]
  },
  {
   "cell_type": "code",
   "execution_count": 8,
   "id": "b787cbda",
   "metadata": {},
   "outputs": [
    {
     "data": {
      "image/png": "[encoded data removed]",
      "text/plain": [
       "<Figure size 432x288 with 1 Axes>"
      ]
     },
     "metadata": {
      "needs_background": "light"
     },
     "output_type": "display_data"
    }
   ],
   "source": [
    "X,Y,x_test_1,y_test_1,x_test_2,y_test_2 = sin_data.load_data()\n",
    "Y = Y.flatten()\n",
    "plot.plot_actualdata(X,Y,x_test_1,y_test_1,x_test_2,y_test_2)"
   ]
  },
  {
   "cell_type": "code",
   "execution_count": 9,
   "id": "aaf268a9",
   "metadata": {},
   "outputs": [
    {
     "data": {
      "text/html": [
       "<pre style=\"white-space:pre;overflow-x:auto;line-height:normal;font-family:Menlo,'DejaVu Sans Mono',consolas,'Courier New',monospace\"><span style=\"font-style: italic\">                     MLP Summary                      </span>\n",
       "┏━━━━━━━━━┳━━━━━━━━━━━━━━━━━┳━━━━━━━━━━━━━━━━━━━━━━━━┓\n",
       "┃<span style=\"font-weight: bold\"> path    </span>┃<span style=\"font-weight: bold\"> outputs         </span>┃<span style=\"font-weight: bold\"> params                 </span>┃\n",
       "┡━━━━━━━━━╇━━━━━━━━━━━━━━━━━╇━━━━━━━━━━━━━━━━━━━━━━━━┩\n",
       "│ Inputs  │ <span style=\"color: #7f7f7f; text-decoration-color: #7f7f7f\">float32</span>[100,1]  │                        │\n",
       "├─────────┼─────────────────┼────────────────────────┤\n",
       "│ Dense_0 │ <span style=\"color: #7f7f7f; text-decoration-color: #7f7f7f\">float32</span>[100,32] │ bias: <span style=\"color: #7f7f7f; text-decoration-color: #7f7f7f\">float32</span>[32]      │\n",
       "│         │                 │ kernel: <span style=\"color: #7f7f7f; text-decoration-color: #7f7f7f\">float32</span>[1,32]  │\n",
       "│         │                 │                        │\n",
       "│         │                 │ <span style=\"font-weight: bold\">64 </span><span style=\"color: #7f7f7f; text-decoration-color: #7f7f7f; font-weight: bold\">(256 B)</span>             │\n",
       "├─────────┼─────────────────┼────────────────────────┤\n",
       "│ Dense_1 │ <span style=\"color: #7f7f7f; text-decoration-color: #7f7f7f\">float32</span>[100,32] │ bias: <span style=\"color: #7f7f7f; text-decoration-color: #7f7f7f\">float32</span>[32]      │\n",
       "│         │                 │ kernel: <span style=\"color: #7f7f7f; text-decoration-color: #7f7f7f\">float32</span>[32,32] │\n",
       "│         │                 │                        │\n",
       "│         │                 │ <span style=\"font-weight: bold\">1,056 </span><span style=\"color: #7f7f7f; text-decoration-color: #7f7f7f; font-weight: bold\">(4.2 KB)</span>         │\n",
       "├─────────┼─────────────────┼────────────────────────┤\n",
       "│ Dense_2 │ <span style=\"color: #7f7f7f; text-decoration-color: #7f7f7f\">float32</span>[100,1]  │ bias: <span style=\"color: #7f7f7f; text-decoration-color: #7f7f7f\">float32</span>[1]       │\n",
       "│         │                 │ kernel: <span style=\"color: #7f7f7f; text-decoration-color: #7f7f7f\">float32</span>[32,1]  │\n",
       "│         │                 │                        │\n",
       "│         │                 │ <span style=\"font-weight: bold\">33 </span><span style=\"color: #7f7f7f; text-decoration-color: #7f7f7f; font-weight: bold\">(132 B)</span>             │\n",
       "├─────────┼─────────────────┼────────────────────────┤\n",
       "│ Dense_3 │ <span style=\"color: #7f7f7f; text-decoration-color: #7f7f7f\">float32</span>[100,1]  │ bias: <span style=\"color: #7f7f7f; text-decoration-color: #7f7f7f\">float32</span>[1]       │\n",
       "│         │                 │ kernel: <span style=\"color: #7f7f7f; text-decoration-color: #7f7f7f\">float32</span>[1,1]   │\n",
       "│         │                 │                        │\n",
       "│         │                 │ <span style=\"font-weight: bold\">2 </span><span style=\"color: #7f7f7f; text-decoration-color: #7f7f7f; font-weight: bold\">(8 B)</span>                │\n",
       "├─────────┼─────────────────┼────────────────────────┤\n",
       "│ MLP     │ <span style=\"color: #7f7f7f; text-decoration-color: #7f7f7f\">float32</span>[100]    │                        │\n",
       "├─────────┼─────────────────┼────────────────────────┤\n",
       "│<span style=\"font-weight: bold\">         </span>│<span style=\"font-weight: bold\">           Total </span>│<span style=\"font-weight: bold\"> 1,155 </span><span style=\"color: #7f7f7f; text-decoration-color: #7f7f7f; font-weight: bold\">(4.6 KB)</span><span style=\"font-weight: bold\">         </span>│\n",
       "└─────────┴─────────────────┴────────────────────────┘\n",
       "<span style=\"font-weight: bold\">                                                      </span>\n",
       "<span style=\"font-weight: bold\">           Total Parameters: 1,155 </span><span style=\"color: #7f7f7f; text-decoration-color: #7f7f7f; font-weight: bold\">(4.6 KB)</span><span style=\"font-weight: bold\">           </span>\n",
       "</pre>\n"
      ],
      "text/plain": [
       "\u001b[3m                     MLP Summary                      \u001b[0m\n",
       "┏━━━━━━━━━┳━━━━━━━━━━━━━━━━━┳━━━━━━━━━━━━━━━━━━━━━━━━┓\n",
       "┃\u001b[1m \u001b[0m\u001b[1mpath   \u001b[0m\u001b[1m \u001b[0m┃\u001b[1m \u001b[0m\u001b[1moutputs        \u001b[0m\u001b[1m \u001b[0m┃\u001b[1m \u001b[0m\u001b[1mparams                \u001b[0m\u001b[1m \u001b[0m┃\n",
       "┡━━━━━━━━━╇━━━━━━━━━━━━━━━━━╇━━━━━━━━━━━━━━━━━━━━━━━━┩\n",
       "│ Inputs  │ \u001b[2mfloat32\u001b[0m[100,1]  │                        │\n",
       "├─────────┼─────────────────┼────────────────────────┤\n",
       "│ Dense_0 │ \u001b[2mfloat32\u001b[0m[100,32] │ bias: \u001b[2mfloat32\u001b[0m[32]      │\n",
       "│         │                 │ kernel: \u001b[2mfloat32\u001b[0m[1,32]  │\n",
       "│         │                 │                        │\n",
       "│         │                 │ \u001b[1m64 \u001b[0m\u001b[1;2m(256 B)\u001b[0m             │\n",
       "├─────────┼─────────────────┼────────────────────────┤\n",
       "│ Dense_1 │ \u001b[2mfloat32\u001b[0m[100,32] │ bias: \u001b[2mfloat32\u001b[0m[32]      │\n",
       "│         │                 │ kernel: \u001b[2mfloat32\u001b[0m[32,32] │\n",
       "│         │                 │                        │\n",
       "│         │                 │ \u001b[1m1,056 \u001b[0m\u001b[1;2m(4.2 KB)\u001b[0m         │\n",
       "├─────────┼─────────────────┼────────────────────────┤\n",
       "│ Dense_2 │ \u001b[2mfloat32\u001b[0m[100,1]  │ bias: \u001b[2mfloat32\u001b[0m[1]       │\n",
       "│         │                 │ kernel: \u001b[2mfloat32\u001b[0m[32,1]  │\n",
       "│         │                 │                        │\n",
       "│         │                 │ \u001b[1m33 \u001b[0m\u001b[1;2m(132 B)\u001b[0m             │\n",
       "├─────────┼─────────────────┼────────────────────────┤\n",
       "│ Dense_3 │ \u001b[2mfloat32\u001b[0m[100,1]  │ bias: \u001b[2mfloat32\u001b[0m[1]       │\n",
       "│         │                 │ kernel: \u001b[2mfloat32\u001b[0m[1,1]   │\n",
       "│         │                 │                        │\n",
       "│         │                 │ \u001b[1m2 \u001b[0m\u001b[1;2m(8 B)\u001b[0m                │\n",
       "├─────────┼─────────────────┼────────────────────────┤\n",
       "│ MLP     │ \u001b[2mfloat32\u001b[0m[100]    │                        │\n",
       "├─────────┼─────────────────┼────────────────────────┤\n",
       "│\u001b[1m \u001b[0m\u001b[1m       \u001b[0m\u001b[1m \u001b[0m│\u001b[1m \u001b[0m\u001b[1m          Total\u001b[0m\u001b[1m \u001b[0m│\u001b[1m \u001b[0m\u001b[1m1,155 \u001b[0m\u001b[1;2m(4.6 KB)\u001b[0m\u001b[1m        \u001b[0m\u001b[1m \u001b[0m│\n",
       "└─────────┴─────────────────┴────────────────────────┘\n",
       "\u001b[1m                                                      \u001b[0m\n",
       "\u001b[1m           Total Parameters: 1,155 \u001b[0m\u001b[1;2m(4.6 KB)\u001b[0m\u001b[1m           \u001b[0m\n"
      ]
     },
     "metadata": {},
     "output_type": "display_data"
    },
    {
     "data": {
      "text/plain": [
       "'\\n\\n'"
      ]
     },
     "execution_count": 9,
     "metadata": {},
     "output_type": "execute_result"
    }
   ],
   "source": [
    "model = MLP([32,32,1])\n",
    "model.tabulate(jax.random.PRNGKey(5),X)"
   ]
  },
  {
   "cell_type": "code",
   "execution_count": 10,
   "id": "b6d39d22",
   "metadata": {},
   "outputs": [
    {
     "data": {
      "text/plain": [
       "PyTreeDef({'params': {'Dense_0': {'bias': *, 'kernel': *}, 'Dense_1': {'bias': *, 'kernel': *}, 'Dense_2': {'bias': *, 'kernel': *}, 'Dense_3': {'bias': *, 'kernel': *}}})"
      ]
     },
     "execution_count": 10,
     "metadata": {},
     "output_type": "execute_result"
    }
   ],
   "source": [
    "rng_key  = jax.random.PRNGKey(0)\n",
    "init_params = unfreeze(model.init(rng_key, x_test_1))\n",
    "jax.tree_structure(init_params)"
   ]
  },
  {
   "cell_type": "code",
   "execution_count": 13,
   "id": "114ce2bb",
   "metadata": {},
   "outputs": [],
   "source": [
    "prior = jax.tree_map(lambda x: tfd.Independent(tfd.Normal(loc=jnp.zeros(x.shape), scale=jnp.ones(x.shape)), \n",
    "                                               reinterpreted_batch_ndims=len(x.shape)) ,init_params)\n",
    "\n",
    "def log_prior_fn(params):\n",
    "    log_prior = jax.tree_map(lambda dist, sample: dist.log_prob(sample), prior, params, \n",
    "                             is_leaf=lambda x: isinstance(x,tfd.Distribution))\n",
    "    \n",
    "    log_prior = sum(jax.tree_leaves(log_prior))\n",
    "    return log_prior"
   ]
  },
  {
   "cell_type": "code",
   "execution_count": 14,
   "id": "7be780d9",
   "metadata": {},
   "outputs": [],
   "source": [
    "def log_likeli_fn(params, data, aux):\n",
    "    return tfd.Normal(loc = model.apply(params, aux), scale=0.1).log_prob(data).sum()\n",
    "\n",
    "def log_joint_fn(params, data, aux):\n",
    "    return log_prior_fn(params) + log_likeli_fn(params, data, aux)"
   ]
  },
  {
   "cell_type": "code",
   "execution_count": 15,
   "id": "ef763d56",
   "metadata": {},
   "outputs": [],
   "source": [
    "from functools import partial"
   ]
  },
  {
   "cell_type": "code",
   "execution_count": 16,
   "id": "26e8adb9",
   "metadata": {},
   "outputs": [
    {
     "data": {
      "text/plain": [
       "DeviceArray(-2028.3411, dtype=float32)"
      ]
     },
     "execution_count": 16,
     "metadata": {},
     "output_type": "execute_result"
    }
   ],
   "source": [
    "log_joint_partial_fn = partial(log_joint_fn, data=Y, aux=X)\n",
    "log_joint_partial_fn(init_params)"
   ]
  },
  {
   "cell_type": "code",
   "execution_count": 18,
   "id": "a901e80c",
   "metadata": {},
   "outputs": [],
   "source": [
    "def inference_loop(rng_key, kernel, initial_state, num_samples):\n",
    "    def one_step(state, rng_key):\n",
    "        state, info = kernel(rng_key, state)\n",
    "        return state, (state,info)\n",
    "\n",
    "    keys = jax.random.split(rng_key, num_samples)\n",
    "    _, (states,infos) = jax.lax.scan(one_step, initial_state, keys)\n",
    "\n",
    "    return (states, infos)"
   ]
  },
  {
   "cell_type": "code",
   "execution_count": 19,
   "id": "85aa4d73",
   "metadata": {},
   "outputs": [
    {
     "name": "stdout",
     "output_type": "stream",
     "text": [
      "CPU times: user 1min 33s, sys: 324 ms, total: 1min 34s\n",
      "Wall time: 1min 33s\n"
     ]
    }
   ],
   "source": [
    "%%time\n",
    "rng_key = jax.random.PRNGKey(1)\n",
    "\n",
    "# fix other args excepgt params\n",
    "log_joint_partial_fn = partial(log_joint_fn, data=Y, aux=X)\n",
    "\n",
    "# warm up\n",
    "num_warmup = 500\n",
    "adapt = blackjax.window_adaptation(blackjax.nuts, log_joint_partial_fn, num_warmup)\n",
    "final_state, kernel, _ = adapt.run(rng_key, init_params)\n",
    "\n",
    "# actual sampling\n",
    "n_samples = 1000\n",
    "states, infos = inference_loop(jax.random.PRNGKey(2), kernel, final_state, n_samples)"
   ]
  },
  {
   "cell_type": "code",
   "execution_count": 20,
   "id": "331db4c3",
   "metadata": {},
   "outputs": [
    {
     "data": {
      "text/plain": [
       "(1000, 32, 1)"
      ]
     },
     "execution_count": 20,
     "metadata": {},
     "output_type": "execute_result"
    }
   ],
   "source": [
    "samples = states.position\n",
    "samples[\"params\"][\"Dense_2\"][\"kernel\"].shape"
   ]
  },
  {
   "cell_type": "code",
   "execution_count": 21,
   "id": "29bf7a3c",
   "metadata": {},
   "outputs": [],
   "source": [
    "params_mean =  jax.tree_map(lambda x: x.mean(axis=0),samples)\n",
    "params_std = jax.tree_map(lambda x: x.std(axis=0),samples)"
   ]
  },
  {
   "cell_type": "code",
   "execution_count": 22,
   "id": "163cfab6",
   "metadata": {},
   "outputs": [
    {
     "data": {
      "text/plain": [
       "{'params': {'Dense_0': {'bias': DeviceArray([-0.09991582,  0.00367631, -0.10131867,  0.13043043,\n",
       "                -0.00321198, -0.29116967, -0.19916674,  0.11013244,\n",
       "                -0.01582798,  0.15865561,  0.10528372,  0.3622597 ,\n",
       "                -0.0353026 ,  0.0254651 , -0.13762397, -0.1800643 ,\n",
       "                -0.06034436,  0.03259763, -0.04671262,  0.04263754,\n",
       "                 0.01050191, -0.07499246,  0.17323452,  0.12986085,\n",
       "                 0.06073171,  0.05940858,  0.1703859 , -0.2142023 ,\n",
       "                 0.07033056, -0.26758882,  0.09565533,  0.04490987],            dtype=float32),\n",
       "   'kernel': DeviceArray([[-0.18248162,  0.00999141, -0.05850589, -0.12638918,\n",
       "                  0.032593  , -0.08059091, -0.00918763,  0.03151843,\n",
       "                  0.02890351, -0.01785107,  0.1698252 ,  0.14782815,\n",
       "                 -0.04139199, -0.14465915, -0.07969263,  0.08765681,\n",
       "                  0.03135355, -0.14053117, -0.03565577,  0.0589017 ,\n",
       "                  0.01196192,  0.13454886,  0.04773257, -0.13206898,\n",
       "                 -0.00653532,  0.3390178 ,  0.10591017,  0.05387646,\n",
       "                  0.16576554, -0.2898321 ,  0.08631968, -0.12269962]],            dtype=float32)},\n",
       "  'Dense_1': {'bias': DeviceArray([-0.13027668,  0.004213  , -0.00936876,  0.08693301,\n",
       "                 0.03382455,  0.01807869,  0.05213219, -0.29055363,\n",
       "                 0.00515136,  0.11104266, -0.10177154,  0.349546  ,\n",
       "                 0.02414176, -0.02508347, -0.00553186, -0.01180565,\n",
       "                 0.20572314,  0.17884503,  0.15200901, -0.12181894,\n",
       "                -0.07746792, -0.08832245,  0.08504986,  0.00714251,\n",
       "                 0.07250634, -0.03979684, -0.06272991, -0.05807478,\n",
       "                 0.02363694, -0.1898466 ,  0.03383457,  0.03109202],            dtype=float32),\n",
       "   'kernel': DeviceArray([[ 0.10448603,  0.04899865, -0.18012008, ...,  0.31864303,\n",
       "                  0.05040095, -0.01814578],\n",
       "                [ 0.10896931,  0.08357956,  0.16239463, ..., -0.01955145,\n",
       "                 -0.11191006, -0.03837808],\n",
       "                [ 0.02776731, -0.05486444,  0.01524082, ...,  0.11337777,\n",
       "                  0.05759179, -0.12156536],\n",
       "                ...,\n",
       "                [-0.22478215, -0.1156793 , -0.18871102, ..., -0.01959873,\n",
       "                  0.14495875,  0.00768671],\n",
       "                [ 0.05414316, -0.39140913,  0.02853351, ...,  0.18477951,\n",
       "                 -0.0853721 ,  0.12250496],\n",
       "                [ 0.08505549, -0.07399832, -0.25755185, ...,  0.26451176,\n",
       "                  0.00060236,  0.00321992]], dtype=float32)},\n",
       "  'Dense_2': {'bias': DeviceArray([0.04198289], dtype=float32),\n",
       "   'kernel': DeviceArray([[-0.33305815],\n",
       "                [-0.2466736 ],\n",
       "                [ 0.17810483],\n",
       "                [-0.00514317],\n",
       "                [-0.08787615],\n",
       "                [ 0.20678587],\n",
       "                [ 0.10032132],\n",
       "                [ 0.04685087],\n",
       "                [ 0.25563172],\n",
       "                [ 0.27166936],\n",
       "                [-0.28898874],\n",
       "                [ 0.1802411 ],\n",
       "                [ 0.0658493 ],\n",
       "                [ 0.08817849],\n",
       "                [-0.15270673],\n",
       "                [-0.08064578],\n",
       "                [-0.13057941],\n",
       "                [ 0.19905919],\n",
       "                [-0.21820451],\n",
       "                [ 0.18263522],\n",
       "                [-0.2483841 ],\n",
       "                [-0.03444787],\n",
       "                [-0.04061133],\n",
       "                [ 0.18875185],\n",
       "                [-0.02538608],\n",
       "                [ 0.2731092 ],\n",
       "                [-0.0101261 ],\n",
       "                [-0.17897972],\n",
       "                [-0.13275373],\n",
       "                [ 0.17684251],\n",
       "                [ 0.04572523],\n",
       "                [ 0.17014481]], dtype=float32)},\n",
       "  'Dense_3': {'bias': DeviceArray([1.1875196], dtype=float32),\n",
       "   'kernel': DeviceArray([[-0.48064196]], dtype=float32)}}}"
      ]
     },
     "execution_count": 22,
     "metadata": {},
     "output_type": "execute_result"
    }
   ],
   "source": [
    "params_mean"
   ]
  },
  {
   "cell_type": "markdown",
   "id": "7c8a73bd",
   "metadata": {},
   "source": [
    "## Prediction"
   ]
  },
  {
   "cell_type": "code",
   "execution_count": 23,
   "id": "aaecf253",
   "metadata": {},
   "outputs": [
    {
     "data": {
      "text/plain": [
       "(1000, 100)"
      ]
     },
     "execution_count": 23,
     "metadata": {},
     "output_type": "execute_result"
    }
   ],
   "source": [
    "y_preds = jax.vmap(lambda params: model.apply(params,X))(samples)\n",
    "y_preds.shape"
   ]
  },
  {
   "cell_type": "code",
   "execution_count": 24,
   "id": "ed597a63",
   "metadata": {},
   "outputs": [],
   "source": [
    "X_sorted_train = jnp.sort(X.reshape(-1))\n",
    "Y_sorted_train = jnp.sort(Y)"
   ]
  },
  {
   "cell_type": "code",
   "execution_count": 25,
   "id": "8f1362ec",
   "metadata": {},
   "outputs": [
    {
     "data": {
      "text/plain": [
       "((100,), (100,))"
      ]
     },
     "execution_count": 25,
     "metadata": {},
     "output_type": "execute_result"
    }
   ],
   "source": [
    "X_sorted_train.shape, Y_sorted_train.shape"
   ]
  },
  {
   "cell_type": "code",
   "execution_count": 26,
   "id": "ff7e3786",
   "metadata": {},
   "outputs": [
    {
     "data": {
      "text/plain": [
       "((300,), (300,))"
      ]
     },
     "execution_count": 26,
     "metadata": {},
     "output_type": "execute_result"
    }
   ],
   "source": [
    "x_stack =jnp.concatenate([x_test_1.reshape(-1),X_sorted_train,x_test_2.reshape(-1)],axis=0)\n",
    "y_stack = jnp.concatenate([y_test_1.reshape(-1),Y_sorted_train,y_test_2.reshape(-1)],axis=0)\n",
    "x_stack.shape, y_stack.shape"
   ]
  },
  {
   "cell_type": "code",
   "execution_count": 27,
   "id": "34f528d9",
   "metadata": {},
   "outputs": [
    {
     "data": {
      "text/plain": [
       "(1000, 300)"
      ]
     },
     "execution_count": 27,
     "metadata": {},
     "output_type": "execute_result"
    }
   ],
   "source": [
    "Y_stack_pred = jax.vmap(lambda params: model.apply(params,x_stack.reshape(-1,1)))(samples)#.mean(axis=0)\n",
    "Y_stack_pred.shape"
   ]
  },
  {
   "cell_type": "code",
   "execution_count": 28,
   "id": "fd140503",
   "metadata": {},
   "outputs": [
    {
     "data": {
      "image/png": "[encoded data removed]",
      "text/plain": [
       "<Figure size 432x288 with 1 Axes>"
      ]
     },
     "metadata": {
      "needs_background": "light"
     },
     "output_type": "display_data"
    }
   ],
   "source": [
    "plot.plot_prediction(X,Y,x_stack,y_stack,Y_stack_pred.mean(axis=0),Y_stack_pred.std(axis=0),'MCMC (NUTS)')"
   ]
  },
  {
   "cell_type": "code",
   "execution_count": 29,
   "id": "09fd28ad",
   "metadata": {},
   "outputs": [
    {
     "data": {
      "text/plain": [
       "Text(0.5, 1.0, 'MCMC (NUTS)')"
      ]
     },
     "execution_count": 29,
     "metadata": {},
     "output_type": "execute_result"
    },
    {
     "data": {
      "image/png": "[encoded data removed]",
      "text/plain": [
       "<Figure size 432x288 with 1 Axes>"
      ]
     },
     "metadata": {
      "needs_background": "light"
     },
     "output_type": "display_data"
    }
   ],
   "source": [
    "fig, ax =  plt.subplots()\n",
    "plot.calibration_reg(Y_stack_pred.mean(axis=0), Y_stack_pred.std(axis=0)+0.1,y_stack, ax = ax)\n",
    "ax.set_title(\"MCMC (NUTS)\")"
   ]
  }
 ],
 "metadata": {
  "kernelspec": {
   "display_name": "Python [conda env:py3713]",
   "language": "python",
   "name": "conda-env-py3713-py"
  },
  "language_info": {
   "codemirror_mode": {
    "name": "ipython",
    "version": 3
   },
   "file_extension": ".py",
   "mimetype": "text/x-python",
   "name": "python",
   "nbconvert_exporter": "python",
   "pygments_lexer": "ipython3",
   "version": "3.7.13"
  }
 },
 "nbformat": 4,
 "nbformat_minor": 5
}
