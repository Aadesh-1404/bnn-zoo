{
  "cells": [
    {
      "cell_type": "code",
      "source": [
        "%pip install --upgrade -q \"jax[tpu]>=0.2.16\" -f https://storage.googleapis.com/jax-releases/libtpu_releases.html\n",
        "import jax.tools.colab_tpu\n",
        "jax.tools.colab_tpu.setup_tpu()\n",
        "jax.devices()"
      ],
      "metadata": {
        "id": "rRs3cdaO5ii1",
        "colab": {
          "base_uri": "https://localhost:8080/"
        },
        "outputId": "6ef7a0cf-6bba-45e5-c6b4-33550b4dcd7e"
      },
      "id": "rRs3cdaO5ii1",
      "execution_count": 2,
      "outputs": [
        {
          "output_type": "execute_result",
          "data": {
            "text/plain": [
              "[TpuDevice(id=0, process_index=0, coords=(0,0,0), core_on_chip=0),\n",
              " TpuDevice(id=1, process_index=0, coords=(0,0,0), core_on_chip=1),\n",
              " TpuDevice(id=2, process_index=0, coords=(1,0,0), core_on_chip=0),\n",
              " TpuDevice(id=3, process_index=0, coords=(1,0,0), core_on_chip=1),\n",
              " TpuDevice(id=4, process_index=0, coords=(0,1,0), core_on_chip=0),\n",
              " TpuDevice(id=5, process_index=0, coords=(0,1,0), core_on_chip=1),\n",
              " TpuDevice(id=6, process_index=0, coords=(1,1,0), core_on_chip=0),\n",
              " TpuDevice(id=7, process_index=0, coords=(1,1,0), core_on_chip=1)]"
            ]
          },
          "metadata": {},
          "execution_count": 2
        }
      ]
    },
    {
      "cell_type": "code",
      "execution_count": 3,
      "metadata": {
        "id": "b781dfc2"
      },
      "outputs": [],
      "source": [
        "try :\n",
        "    import flax.linen as nn\n",
        "except:\n",
        "    %pip install -q flax\n",
        "    import flax.linen as nn\n",
        "\n",
        "from flax.core import unfreeze\n",
        "\n",
        "from flax.training import train_state \n",
        "\n",
        "import jax\n",
        "import jax.numpy as jnp\n",
        "from jax.config import config\n",
        "import optax\n",
        "\n",
        "import matplotlib.pyplot as plt\n",
        "import seaborn as sns\n",
        "from matplotlib.offsetbox import OffsetImage,AnnotationBbox\n",
        "\n",
        "from scipy.ndimage import rotate\n",
        "\n",
        "import tensorflow.keras.datasets as tfds\n",
        "\n",
        "from functools import partial"
      ],
      "id": "b781dfc2"
    },
    {
      "cell_type": "code",
      "source": [
        "from tqdm import tqdm"
      ],
      "metadata": {
        "id": "-4x0obzNvBqB"
      },
      "id": "-4x0obzNvBqB",
      "execution_count": 4,
      "outputs": []
    },
    {
      "cell_type": "code",
      "execution_count": 5,
      "metadata": {
        "id": "9BDJXK39UKhX"
      },
      "outputs": [],
      "source": [
        "config.update(\"jax_enable_x64\", False)"
      ],
      "id": "9BDJXK39UKhX"
    },
    {
      "cell_type": "code",
      "execution_count": 6,
      "metadata": {
        "id": "5351b28e"
      },
      "outputs": [],
      "source": [
        "class LeNet(nn.Module):\n",
        "    \n",
        "    @nn.compact\n",
        "    def __call__(self, x, deterministic):\n",
        "        \n",
        "        #1 layer\n",
        "        x = nn.Conv(features=6, kernel_size=(5,5), name=\"conv2d_1\")(x)\n",
        "        # x = nn.tanh(x)\n",
        "        x = nn.relu(x)\n",
        "        x = nn.avg_pool(x, window_shape=(2,2))\n",
        "        \n",
        "        #2 layer\n",
        "        x = nn.Conv(features=16, kernel_size=(5,5), name=\"conv2d_2\")(x)\n",
        "        # x = nn.tanh(x)\n",
        "        x = nn.relu(x)\n",
        "        x = nn.avg_pool(x, window_shape=(2,2))\n",
        "        \n",
        "        #3 layer\n",
        "        x = nn.Conv(features=120, kernel_size=(5,5), name=\"conv2d_3\")(x)\n",
        "        # x = nn.tanh(x)\n",
        "        x = nn.relu(x)\n",
        "        x = nn.avg_pool(x, window_shape=(2,2))\n",
        "        \n",
        "        x = x.reshape((x.shape[0],-1)) #flatten\n",
        "        #4 fully connected layer\n",
        "        x = nn.Dense(84, name=\"Dense_1_84\")(x)\n",
        "        # x = nn.tanh(x)\n",
        "        x = nn.relu(x)\n",
        "        x = nn.Dropout(rate=0.5, deterministic= deterministic)(x)\n",
        "\n",
        "        #5 fully connected layer\n",
        "        x = nn.Dense(10, name=\"Dense_2_10\")(x)\n",
        "        # x = nn.softmax(x)\n",
        "        \n",
        "        return x\n"
      ],
      "id": "5351b28e"
    },
    {
      "cell_type": "code",
      "execution_count": 7,
      "metadata": {
        "id": "51c7bfdc"
      },
      "outputs": [],
      "source": [
        "def get_datasets():\n",
        "    train_dataset, test_dataset = tfds.mnist.load_data()\n",
        "    X_train, y_train = train_dataset\n",
        "    x_test, y_test = test_dataset\n",
        "    \n",
        "    X_train = jnp.array(X_train/255)\n",
        "    x_test = jnp.array(x_test/255)\n",
        "    \n",
        "    X_train = X_train[..., jnp.newaxis]\n",
        "    x_test = x_test[..., jnp.newaxis]\n",
        "    \n",
        "    return [X_train, jnp.array(y_train)], [x_test, jnp.array(y_test)]\n"
      ],
      "id": "51c7bfdc"
    },
    {
      "cell_type": "code",
      "execution_count": 8,
      "metadata": {
        "id": "fa5c3c30"
      },
      "outputs": [],
      "source": [
        "def cross_entropy_loss(params, x, y, deterministic, rng = jax.random.PRNGKey(0)):\n",
        "    labels_onehot = jax.nn.one_hot(y, num_classes=10)\n",
        "    logits = model.apply(params, x, deterministic=deterministic, rngs={\"dropout\": rng})\n",
        "    return jnp.mean(optax.softmax_cross_entropy(logits=logits, labels=labels_onehot)), logits"
      ],
      "id": "fa5c3c30"
    },
    {
      "cell_type": "code",
      "execution_count": 9,
      "metadata": {
        "id": "b413f812"
      },
      "outputs": [],
      "source": [
        "def fit(params, X, Y, batch_size, learning_rate=0.01, epochs=10, verbose=False):\n",
        "    # opt = optax.adamw(learning_rate=learning_rate)\n",
        "    opt = optax.sgd(learning_rate, 0.75)\n",
        "    opt_state = opt.init(params)\n",
        "    \n",
        "    lg_fn = jax.value_and_grad(cross_entropy_loss, has_aux=True)\n",
        "    \n",
        "    rng, _ = jax.random.split(jax.random.PRNGKey(0))\n",
        "    losses = []\n",
        "\n",
        "    train_ds_size = len(X)\n",
        "    steps_per_epoch = train_ds_size // batch_size\n",
        "\n",
        "    for i in range(epochs):\n",
        "        rng , _ = jax.random.split(rng)\n",
        "        @jax.jit\n",
        "        def one_step(params, x, y, opt_state,rng):\n",
        "            (loss_val, logits), grads = lg_fn(params, x, y, False, rng = rng)\n",
        "            updates, opt_state = opt.update(grads, opt_state, params)\n",
        "            params = optax.apply_updates(params, updates)\n",
        "            acc_val = jnp.mean(jnp.argmax(logits, -1) == y)\n",
        "            return params, opt_state, loss_val, logits, acc_val\n",
        "\n",
        "        # _ , rng = jax.random.split(rng)\n",
        "        perms = jax.random.permutation(rng, train_ds_size)\n",
        "        perms = perms[:steps_per_epoch * batch_size]  # skip incomplete batch\n",
        "        perms = perms.reshape((steps_per_epoch, batch_size))\n",
        "        accuracy = []\n",
        "        losses = []\n",
        "\n",
        "        for perm in tqdm(perms):\n",
        "          rng , _ = jax.random.split(rng)\n",
        "          x, y = X[perm], Y[perm]\n",
        "          params, opt_state, loss_val, logits, acc_val =  one_step(params, x, y, opt_state, rng)\n",
        "          losses.append(loss_val)\n",
        "          accuracy.append(acc_val)\n",
        "\n",
        "        # if verbose and i % (epochs/10) == 0:\n",
        "        print('train epoch: %d, loss: %.4f, accuracy: %.2f' % (i, jnp.mean(jnp.array(losses)), jnp.mean(jnp.array(accuracy))))\n",
        "    return params,losses\n"
      ],
      "id": "b413f812"
    },
    {
      "cell_type": "code",
      "execution_count": 10,
      "metadata": {
        "id": "36bc0c7d"
      },
      "outputs": [],
      "source": [
        "train_ds, test_ds = get_datasets()\n",
        "X_train, y_train = train_ds\n",
        "x_test, y_test = test_ds"
      ],
      "id": "36bc0c7d"
    },
    {
      "cell_type": "code",
      "execution_count": 51,
      "metadata": {
        "id": "3a3f64c6"
      },
      "outputs": [],
      "source": [
        "batch = 32\n",
        "rng = jax.random.PRNGKey(0)\n",
        "rng, init_rng = jax.random.split(rng)\n",
        "model = LeNet()\n",
        "params = model.init(init_rng, jnp.ones([1, 28, 28, 1]), deterministic=True)"
      ],
      "id": "3a3f64c6"
    },
    {
      "cell_type": "code",
      "execution_count": 52,
      "metadata": {
        "colab": {
          "base_uri": "https://localhost:8080/"
        },
        "id": "eab20c3d",
        "outputId": "109ffceb-09fb-4a04-b343-feb04e766c5c"
      },
      "outputs": [
        {
          "output_type": "stream",
          "name": "stderr",
          "text": [
            "100%|██████████| 1875/1875 [01:18<00:00, 23.76it/s]\n"
          ]
        },
        {
          "output_type": "stream",
          "name": "stdout",
          "text": [
            "train epoch: 0, loss: 0.3756, accuracy: 0.88\n"
          ]
        },
        {
          "output_type": "stream",
          "name": "stderr",
          "text": [
            "100%|██████████| 1875/1875 [01:17<00:00, 24.07it/s]\n"
          ]
        },
        {
          "output_type": "stream",
          "name": "stdout",
          "text": [
            "train epoch: 1, loss: 0.1291, accuracy: 0.96\n"
          ]
        },
        {
          "output_type": "stream",
          "name": "stderr",
          "text": [
            "100%|██████████| 1875/1875 [01:18<00:00, 23.97it/s]\n"
          ]
        },
        {
          "output_type": "stream",
          "name": "stdout",
          "text": [
            "train epoch: 2, loss: 0.0999, accuracy: 0.97\n"
          ]
        },
        {
          "output_type": "stream",
          "name": "stderr",
          "text": [
            "100%|██████████| 1875/1875 [01:17<00:00, 24.08it/s]\n"
          ]
        },
        {
          "output_type": "stream",
          "name": "stdout",
          "text": [
            "train epoch: 3, loss: 0.0811, accuracy: 0.98\n"
          ]
        },
        {
          "output_type": "stream",
          "name": "stderr",
          "text": [
            "100%|██████████| 1875/1875 [01:19<00:00, 23.70it/s]\n"
          ]
        },
        {
          "output_type": "stream",
          "name": "stdout",
          "text": [
            "train epoch: 4, loss: 0.0696, accuracy: 0.98\n"
          ]
        },
        {
          "output_type": "stream",
          "name": "stderr",
          "text": [
            "100%|██████████| 1875/1875 [01:30<00:00, 20.75it/s]\n"
          ]
        },
        {
          "output_type": "stream",
          "name": "stdout",
          "text": [
            "train epoch: 5, loss: 0.0618, accuracy: 0.98\n"
          ]
        },
        {
          "output_type": "stream",
          "name": "stderr",
          "text": [
            "100%|██████████| 1875/1875 [01:21<00:00, 23.14it/s]\n"
          ]
        },
        {
          "output_type": "stream",
          "name": "stdout",
          "text": [
            "train epoch: 6, loss: 0.0551, accuracy: 0.98\n"
          ]
        },
        {
          "output_type": "stream",
          "name": "stderr",
          "text": [
            "100%|██████████| 1875/1875 [01:22<00:00, 22.84it/s]\n"
          ]
        },
        {
          "output_type": "stream",
          "name": "stdout",
          "text": [
            "train epoch: 7, loss: 0.0497, accuracy: 0.98\n"
          ]
        },
        {
          "output_type": "stream",
          "name": "stderr",
          "text": [
            "100%|██████████| 1875/1875 [01:19<00:00, 23.69it/s]\n"
          ]
        },
        {
          "output_type": "stream",
          "name": "stdout",
          "text": [
            "train epoch: 8, loss: 0.0448, accuracy: 0.99\n"
          ]
        },
        {
          "output_type": "stream",
          "name": "stderr",
          "text": [
            "100%|██████████| 1875/1875 [01:19<00:00, 23.59it/s]\n"
          ]
        },
        {
          "output_type": "stream",
          "name": "stdout",
          "text": [
            "train epoch: 9, loss: 0.0422, accuracy: 0.99\n"
          ]
        }
      ],
      "source": [
        "params, losses = fit(params, X_train, y_train, batch, learning_rate=0.003, epochs = 10)"
      ],
      "id": "eab20c3d"
    },
    {
      "cell_type": "markdown",
      "metadata": {
        "id": "2yRGP_YtmLGn"
      },
      "source": [
        "# Figure"
      ],
      "id": "2yRGP_YtmLGn"
    },
    {
      "cell_type": "code",
      "execution_count": 53,
      "metadata": {
        "id": "40hlH-zkmIVg"
      },
      "outputs": [],
      "source": [
        "one_img = x_test[2]\n",
        "one_img = rotate(one_img, 30, reshape=False)"
      ],
      "id": "40hlH-zkmIVg"
    },
    {
      "cell_type": "code",
      "execution_count": 54,
      "metadata": {
        "colab": {
          "base_uri": "https://localhost:8080/",
          "height": 282
        },
        "id": "UiWVa2nZmISZ",
        "outputId": "ffd4768d-f5af-46b4-ab2a-2e3e0ee8a10c"
      },
      "outputs": [
        {
          "output_type": "execute_result",
          "data": {
            "text/plain": [
              "<matplotlib.image.AxesImage at 0x7ff4c4be2f50>"
            ]
          },
          "metadata": {},
          "execution_count": 54
        },
        {
          "output_type": "display_data",
          "data": {
            "text/plain": [
              "<Figure size 432x288 with 1 Axes>"
            ],
            "image/png": "[encoded data removed]"
          },
          "metadata": {
            "needs_background": "light"
          }
        }
      ],
      "source": [
        "plt.imshow(one_img.squeeze())"
      ],
      "id": "UiWVa2nZmISZ"
    },
    {
      "cell_type": "code",
      "execution_count": 61,
      "metadata": {
        "id": "w-P6jRramIP3"
      },
      "outputs": [],
      "source": [
        "imgs = jnp.array([rotate(one_img, 5.5*i, reshape=False) for i in range(12)])"
      ],
      "id": "w-P6jRramIP3"
    },
    {
      "cell_type": "code",
      "execution_count": 62,
      "metadata": {
        "id": "trFiREC2rYGN"
      },
      "outputs": [],
      "source": [
        "# for i in imgs:\n",
        "#   plt.imshow(i.squeeze())\n",
        "#   plt.show()"
      ],
      "id": "trFiREC2rYGN"
    },
    {
      "cell_type": "code",
      "execution_count": 63,
      "metadata": {
        "colab": {
          "base_uri": "https://localhost:8080/"
        },
        "id": "8kTX_j3PmINW",
        "outputId": "aa94bf67-b3a5-47d9-8fd3-e20f7f1e844f"
      },
      "outputs": [
        {
          "output_type": "execute_result",
          "data": {
            "text/plain": [
              "DeviceArray([1, 1, 1, 1, 5, 5, 5, 3, 7, 7, 7, 7], dtype=int32)"
            ]
          },
          "metadata": {},
          "execution_count": 63
        }
      ],
      "source": [
        "pred = model.apply(params, imgs, deterministic=False,  rngs={\"dropout\": jax.random.PRNGKey(0)})\n",
        "jnp.argmax(pred,axis=1)"
      ],
      "id": "8kTX_j3PmINW"
    },
    {
      "cell_type": "code",
      "execution_count": 63,
      "metadata": {
        "id": "cC1yFKbbZo0d"
      },
      "outputs": [],
      "source": [
        ""
      ],
      "id": "cC1yFKbbZo0d"
    },
    {
      "cell_type": "markdown",
      "metadata": {
        "id": "6oopzXtAZpmx"
      },
      "source": [
        "# MC Dropout"
      ],
      "id": "6oopzXtAZpmx"
    },
    {
      "cell_type": "code",
      "execution_count": 64,
      "metadata": {
        "id": "to6xsKEZn6zn"
      },
      "outputs": [],
      "source": [
        "n_stacks = 100\n",
        "y_stacks = []\n",
        "fn = lambda i : model.apply(params, imgs, deterministic=False, rngs={\"dropout\": jax.random.PRNGKey(i)})\n",
        "y_stacks = jax.vmap(jax.jit(fn), in_axes=(0))(jnp.arange(n_stacks))\n",
        "# for i in range(n_stacks):\n",
        "#     y_stacks.append(model.apply(params, imgs, deterministic=False, rngs={\"dropout\": jax.random.PRNGKey(i)}))\n",
        "# y_stacks = jnp.array(y_stacks)"
      ],
      "id": "to6xsKEZn6zn"
    },
    {
      "cell_type": "code",
      "execution_count": 65,
      "metadata": {
        "id": "ufxKdRlXoWT2"
      },
      "outputs": [],
      "source": [
        "stacks = y_stacks[:,:,(1,3,7)]"
      ],
      "id": "ufxKdRlXoWT2"
    },
    {
      "cell_type": "code",
      "execution_count": 66,
      "metadata": {
        "id": "S4plQJYPm6aL"
      },
      "outputs": [],
      "source": [
        "mean = stacks.mean(axis=0)\n",
        "std = stacks.std(axis=0)"
      ],
      "id": "S4plQJYPm6aL"
    },
    {
      "cell_type": "code",
      "execution_count": 67,
      "metadata": {
        "id": "P6tIOGODjg0n"
      },
      "outputs": [],
      "source": [
        "def offset_image(coord, i, ax, low_img, low_index):\n",
        "    img = imgs[i]\n",
        "    im = OffsetImage(img.squeeze(), zoom=1)\n",
        "    im.image.axes = ax\n",
        "\n",
        "    ab = AnnotationBbox(im, (coord, low_img),  xybox=(0., low_index), frameon=False,\n",
        "                        xycoords='data',  boxcoords=\"offset points\", pad=0)\n",
        "    ax.add_artist(ab)"
      ],
      "id": "P6tIOGODjg0n"
    },
    {
      "cell_type": "code",
      "execution_count": 68,
      "metadata": {
        "colab": {
          "base_uri": "https://localhost:8080/",
          "height": 481
        },
        "id": "sHSBfgMnpYwm",
        "outputId": "b6b36652-da4d-4450-9cf1-d0be09360692"
      },
      "outputs": [
        {
          "output_type": "display_data",
          "data": {
            "text/plain": [
              "<Figure size 1080x504 with 1 Axes>"
            ],
            "image/png": "[encoded data removed]"
          },
          "metadata": {
            "needs_background": "light"
          }
        }
      ],
      "source": [
        "# plt.figure(figsize=(10,6))\n",
        "fig, ax = plt.subplots(figsize=(15,7))\n",
        "index = jnp.arange(12)\n",
        "for i in range(12):\n",
        "    ax.eventplot(stacks[:,i,0], orientation=\"vertical\", lineoffsets=i, linelengths=0.8, colors=\"green\", alpha=0.75)\n",
        "    ax.eventplot(stacks[:,i,1], orientation=\"vertical\", lineoffsets=i, linelengths=0.8, colors=\"orange\", alpha=0.75)\n",
        "    ax.eventplot(stacks[:,i,2], orientation=\"vertical\", lineoffsets=i, linelengths=0.8, colors=\"blue\", alpha=0.6)\n",
        "    \n",
        "ax.set_xticks(index)\n",
        "ax.set_xticklabels(index + 1)\n",
        "ax.tick_params(axis='x', which='major', pad=40, labelsize=10)\n",
        "ax.set_ylabel(\"Logits\", fontsize=15)\n",
        "l, h = ax.get_ylim()\n",
        "for i in index:\n",
        "    offset_image(i, i, ax, l, l-15)\n",
        "\n",
        "plt.legend([\"logit[1]\",\"logit[5]\",\"logit[7]\"],fontsize=13)\n",
        "plt.title(\"Softmax input scatter for 100 passes\")\n",
        "sns.despine()\n",
        "plt.savefig(\"Mnist_with_MC_Dropout\",quality=100)\n",
        "plt.show()"
      ],
      "id": "sHSBfgMnpYwm"
    },
    {
      "cell_type": "code",
      "execution_count": 69,
      "metadata": {
        "id": "FDYEyaFqDeJA"
      },
      "outputs": [],
      "source": [
        "soft_stacks = nn.softmax(stacks,axis=-1)"
      ],
      "id": "FDYEyaFqDeJA"
    },
    {
      "cell_type": "code",
      "execution_count": 70,
      "metadata": {
        "id": "VhFKx6b1EP4V"
      },
      "outputs": [],
      "source": [
        "soft_mean = soft_stacks.mean(axis=0)\n",
        "soft_std = soft_stacks.std(axis=0)"
      ],
      "id": "VhFKx6b1EP4V"
    },
    {
      "cell_type": "code",
      "execution_count": 71,
      "metadata": {
        "colab": {
          "base_uri": "https://localhost:8080/",
          "height": 481
        },
        "id": "8KNApCbTEKLU",
        "outputId": "f226c66e-e53d-4d26-a765-bddaf8699ecf"
      },
      "outputs": [
        {
          "output_type": "display_data",
          "data": {
            "text/plain": [
              "<Figure size 1080x504 with 1 Axes>"
            ],
            "image/png": "[encoded data removed]"
          },
          "metadata": {
            "needs_background": "light"
          }
        }
      ],
      "source": [
        "# plt.figure(figsize=(10,6))\n",
        "fig, ax = plt.subplots(figsize=(15,7))\n",
        "index = jnp.arange(12)\n",
        "for i in range(12):\n",
        "    ax.eventplot(soft_stacks[:,i,0].sort()[:75], orientation=\"vertical\", lineoffsets=i, linelengths=0.8, colors=\"green\", alpha=0.75)\n",
        "    ax.eventplot(soft_stacks[:,i,1].sort()[:75], orientation=\"vertical\", lineoffsets=i, linelengths=0.8, colors=\"orange\", alpha=0.75)\n",
        "    ax.eventplot(soft_stacks[:,i,2].sort()[:75], orientation=\"vertical\", lineoffsets=i, linelengths=0.8, colors=\"blue\", alpha=0.6)\n",
        "    \n",
        "ax.set_xticks(index)\n",
        "ax.set_xticklabels(index + 1)\n",
        "ax.tick_params(axis='x', which='major', pad=40, labelsize=10)\n",
        "ax.set_ylabel(\"Probability\", fontsize=15)\n",
        "l, h = ax.get_ylim()\n",
        "for i in index:\n",
        "    offset_image(i, i, ax, l, l-15)\n",
        "\n",
        "plt.legend([\"prob[1]\",\"prob[5]\",\"prob[7]\"],fontsize=13)\n",
        "plt.title(\"Softmax output scatter for 100 passes\")\n",
        "sns.despine()\n",
        "plt.savefig(\"soft_Mnist_with_MC_Dropout\",quality=100)\n",
        "plt.show()"
      ],
      "id": "8KNApCbTEKLU"
    },
    {
      "cell_type": "code",
      "execution_count": 73,
      "metadata": {
        "colab": {
          "base_uri": "https://localhost:8080/",
          "height": 481
        },
        "id": "ue7E5BrskRuF",
        "outputId": "dd722dd0-c31d-4877-f419-dd7350e94393"
      },
      "outputs": [
        {
          "output_type": "display_data",
          "data": {
            "text/plain": [
              "<Figure size 1080x504 with 1 Axes>"
            ],
            "image/png": "[encoded data removed]"
          },
          "metadata": {
            "needs_background": "light"
          }
        }
      ],
      "source": [
        "# plt.figure(figsize=(10,6))\n",
        "fig, ax = plt.subplots(figsize=(15,7))\n",
        "index = jnp.arange(12)\n",
        "ax.fill_between(index, mean[:,0] + 0.5*std[:,0], mean[:, 0] - 0.5*std[:,0], color=\"orange\", alpha = 1/3, label=f\"logit[1]\")\n",
        "ax.fill_between(index, mean[:,1] + 0.5*std[:,1], mean[:, 1] - 0.5*std[:,1], color=\"red\", alpha = 1/3, label=f\"logit[5]\")\n",
        "ax.fill_between(index, mean[:,2] + 0.5*std[:,2], mean[:, 2] - 0.5*std[:,2], color=\"blue\", alpha = 1/3, label=f\"logit[7]\")\n",
        "ax.set_xticks(index)\n",
        "ax.set_xticklabels(index)\n",
        "ax.tick_params(axis='x', which='major', pad=40, labelsize=10)\n",
        "l, h = ax.get_ylim()\n",
        "for i in index:\n",
        "    offset_image(i, i, ax, l, l-15)\n",
        "plt.legend()\n",
        "plt.title(\"Softmax input scatter $ mean \\pm std\")\n",
        "sns.despine()\n",
        "ax.set_ylabel(\"Logits\", fontsize=15)\n",
        "plt.savefig(\"mnist_mc_dropout_mean_sigma\", quality=100)\n",
        "plt.show()"
      ],
      "id": "ue7E5BrskRuF"
    },
    {
      "cell_type": "code",
      "execution_count": null,
      "metadata": {
        "id": "Yofn3JSFbJ6v"
      },
      "outputs": [],
      "source": [
        ""
      ],
      "id": "Yofn3JSFbJ6v"
    }
  ],
  "metadata": {
    "accelerator": "TPU",
    "colab": {
      "collapsed_sections": [],
      "name": "mc_dropout_classification_task.ipynb",
      "provenance": []
    },
    "kernelspec": {
      "display_name": "Python 3 (ipykernel)",
      "language": "python",
      "name": "python3"
    },
    "language_info": {
      "codemirror_mode": {
        "name": "ipython",
        "version": 3
      },
      "file_extension": ".py",
      "mimetype": "text/x-python",
      "name": "python",
      "nbconvert_exporter": "python",
      "pygments_lexer": "ipython3",
      "version": "3.7.13"
    },
    "gpuClass": "standard"
  },
  "nbformat": 4,
  "nbformat_minor": 5
}